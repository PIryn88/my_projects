{
 "cells": [
  {
   "cell_type": "code",
   "execution_count": 180,
   "id": "a6cf49a0",
   "metadata": {},
   "outputs": [],
   "source": [
    "from bs4 import BeautifulSoup\n",
    "import requests\n",
    "\n",
    "url = 'https://bank.gov.ua/NBU_Exchange/exchange?date=30.10.2023'\n",
    "r = requests.get(url)\n",
    "html_doc = r.text\n",
    "soup = BeautifulSoup(html_doc, 'html.parser')\n",
    "\n",
    "# Find all <ROW> elements\n",
    "row_elements = soup.find_all('row')\n",
    "\n",
    "for row in row_elements:\n",
    "    currency_code_element = row.find('currencycodeL')\n",
    "    amount_element = row.find('amount')\n",
    "\n",
    "    if currency_code_element and amount_element:\n",
    "        currency_code = currency_code_element.text\n",
    "        amount = amount_element.text\n",
    "\n",
    "        if currency_code == 'USD':\n",
    "            print(f'Amount for USD: {amount}')"
   ]
  },
  {
   "cell_type": "code",
   "execution_count": 155,
   "id": "ad139df3",
   "metadata": {},
   "outputs": [
    {
     "name": "stdout",
     "output_type": "stream",
     "text": [
      "Amount for USD: 2591.5887 / 100\n"
     ]
    }
   ],
   "source": [
    "from bs4 import BeautifulSoup\n",
    "import requests\n",
    "\n",
    "url = 'https://bank.gov.ua/NBU_Exchange/exchange?date=14.03.2018'\n",
    "r = requests.get(url)\n",
    "html_doc = r.text\n",
    "soup = BeautifulSoup(html_doc, 'html.parser')\n",
    "\n",
    "# Find all <ROW> elements\n",
    "row_elements = soup.find_all('row')\n",
    "\n",
    "for row in row_elements:\n",
    "    currency_code_element = row.find('currencycodel')\n",
    "    amount_element = row.find('amount')\n",
    "    units_element = row.find('units')\n",
    "\n",
    "    if currency_code_element and amount_element and units_element:\n",
    "        currency_code = currency_code_element.text\n",
    "        amount = amount_element.text\n",
    "        units = units_element.text\n",
    "\n",
    "        if currency_code == 'USD':\n",
    "            print(f'Amount for USD: {amount} / {units}')"
   ]
  },
  {
   "cell_type": "code",
   "execution_count": 186,
   "id": "8c78a717",
   "metadata": {},
   "outputs": [
    {
     "name": "stdout",
     "output_type": "stream",
     "text": [
      "['13.03.2018', '14.03.2018', '15.03.2018']\n"
     ]
    }
   ],
   "source": [
    "from bs4 import BeautifulSoup\n",
    "import requests\n",
    "\n",
    "from datetime import date, timedelta\n",
    "start_dt = date(2018, 3, 13) #13.03.2018\n",
    "end_dt = date(2018, 3, 15)  # 06.03.2019\n",
    "delta = timedelta(days=1)\n",
    "\n",
    "date_list = []\n",
    "\n",
    "while start_dt <= end_dt:\n",
    "    date_list.append(start_dt.strftime('%d.%m.%Y'))\n",
    "    start_dt += delta\n",
    "print(date_list)"
   ]
  },
  {
   "cell_type": "code",
   "execution_count": 187,
   "id": "1eb13fb8",
   "metadata": {},
   "outputs": [],
   "source": [
    "base_url = 'https://bank.gov.ua/NBU_Exchange/exchange?date={}'"
   ]
  },
  {
   "cell_type": "code",
   "execution_count": 188,
   "id": "82e5d227",
   "metadata": {},
   "outputs": [],
   "source": [
    "# date_list = []\n",
    "amount_list_new=[]"
   ]
  },
  {
   "cell_type": "code",
   "execution_count": 189,
   "id": "455c1e54",
   "metadata": {},
   "outputs": [
    {
     "name": "stdout",
     "output_type": "stream",
     "text": [
      "https://bank.gov.ua/NBU_Exchange/exchange?date=13.03.2018\n",
      "https://bank.gov.ua/NBU_Exchange/exchange?date=14.03.2018\n",
      "https://bank.gov.ua/NBU_Exchange/exchange?date=15.03.2018\n",
      "['2591.5887', '2591.5887', '2591.5887']\n"
     ]
    }
   ],
   "source": [
    "for date in date_list_new:\n",
    "    url_2 = base_url.format(date)\n",
    "    print(url_2)\n",
    "    response = requests.get(url_2)\n",
    "    html_doc = r.text\n",
    "    soup = BeautifulSoup(html_doc, 'html.parser')\n",
    "\n",
    "    # Find all <ROW> elements\n",
    "    row_elements = soup.find_all('row')\n",
    "\n",
    "    for row in row_elements:\n",
    "        currency_code_element = row.find('currencycodel')\n",
    "        amount_element = row.find('amount')\n",
    "\n",
    "        if currency_code_element and amount_element:\n",
    "            currency_code = currency_code_element.text\n",
    "            amount = amount_element.text\n",
    "\n",
    "            if currency_code == 'USD':\n",
    "                amount_list.append(amount)\n",
    "\n",
    "print(amount_list)"
   ]
  },
  {
   "cell_type": "code",
   "execution_count": 166,
   "id": "6be4c50d",
   "metadata": {},
   "outputs": [
    {
     "name": "stdout",
     "output_type": "stream",
     "text": [
      "['13.03.2018', '14.03.2018', '15.03.2018']\n",
      "['2591.5887', '2591.5887', '2591.5887']\n"
     ]
    }
   ],
   "source": [
    "while start_dt <= end_dt:\n",
    "    f_date = start_dt.strftime('%d.%m.%Y')\n",
    "    url_2 = base_url.format(f_date)\n",
    "    response = requests.get(url_2)\n",
    "    html_doc = r.text\n",
    "    soup = BeautifulSoup(html_doc, 'html.parser')\n",
    "\n",
    "    # Find all <ROW> elements\n",
    "    row_elements = soup.find_all('row')\n",
    "\n",
    "    for row in row_elements:\n",
    "        currency_code_element = row.find('currencycodel')\n",
    "        amount_element = row.find('amount')\n",
    "\n",
    "        if currency_code_element and amount_element:\n",
    "            currency_code = currency_code_element.text\n",
    "            amount = amount_element.text\n",
    "\n",
    "            if currency_code == 'USD':\n",
    "                date_list.append(f_date)\n",
    "                amount_list.append(amount)\n",
    "#                 print(f'Amount for USD: {amount}')\n",
    "#                 print(amount, amount_list)\n",
    "#                 print(start_dt, date_list)\n",
    "    \n",
    "    start_dt += delta\n",
    "    \n",
    "print(date_list)\n",
    "print(amount_list)"
   ]
  },
  {
   "cell_type": "code",
   "execution_count": 107,
   "id": "258c8683",
   "metadata": {},
   "outputs": [],
   "source": [
    "import pandas as pd"
   ]
  },
  {
   "cell_type": "code",
   "execution_count": 109,
   "id": "ab874363",
   "metadata": {},
   "outputs": [
    {
     "name": "stdout",
     "output_type": "stream",
     "text": [
      "359\n",
      "359\n"
     ]
    }
   ],
   "source": [
    "print(len(date_list))\n",
    "print(len(amount_list))"
   ]
  },
  {
   "cell_type": "code",
   "execution_count": 119,
   "id": "06ac0388",
   "metadata": {},
   "outputs": [],
   "source": [
    "df = pd.DataFrame({'Data': date_list, 'Currency':['USD']*len(date_list), 'Amount':amount_list})"
   ]
  },
  {
   "cell_type": "code",
   "execution_count": 120,
   "id": "bcab5f83",
   "metadata": {},
   "outputs": [
    {
     "data": {
      "text/html": [
       "<div>\n",
       "<style scoped>\n",
       "    .dataframe tbody tr th:only-of-type {\n",
       "        vertical-align: middle;\n",
       "    }\n",
       "\n",
       "    .dataframe tbody tr th {\n",
       "        vertical-align: top;\n",
       "    }\n",
       "\n",
       "    .dataframe thead th {\n",
       "        text-align: right;\n",
       "    }\n",
       "</style>\n",
       "<table border=\"1\" class=\"dataframe\">\n",
       "  <thead>\n",
       "    <tr style=\"text-align: right;\">\n",
       "      <th></th>\n",
       "      <th>Data</th>\n",
       "      <th>Currency</th>\n",
       "      <th>Amount</th>\n",
       "    </tr>\n",
       "  </thead>\n",
       "  <tbody>\n",
       "    <tr>\n",
       "      <th>0</th>\n",
       "      <td>2018-03-13</td>\n",
       "      <td>USD</td>\n",
       "      <td>36.4216</td>\n",
       "    </tr>\n",
       "    <tr>\n",
       "      <th>1</th>\n",
       "      <td>2018-03-14</td>\n",
       "      <td>USD</td>\n",
       "      <td>36.4216</td>\n",
       "    </tr>\n",
       "    <tr>\n",
       "      <th>2</th>\n",
       "      <td>2018-03-15</td>\n",
       "      <td>USD</td>\n",
       "      <td>36.4216</td>\n",
       "    </tr>\n",
       "    <tr>\n",
       "      <th>3</th>\n",
       "      <td>2018-03-16</td>\n",
       "      <td>USD</td>\n",
       "      <td>36.4216</td>\n",
       "    </tr>\n",
       "    <tr>\n",
       "      <th>4</th>\n",
       "      <td>2018-03-17</td>\n",
       "      <td>USD</td>\n",
       "      <td>36.4216</td>\n",
       "    </tr>\n",
       "  </tbody>\n",
       "</table>\n",
       "</div>"
      ],
      "text/plain": [
       "         Data Currency   Amount\n",
       "0  2018-03-13      USD  36.4216\n",
       "1  2018-03-14      USD  36.4216\n",
       "2  2018-03-15      USD  36.4216\n",
       "3  2018-03-16      USD  36.4216\n",
       "4  2018-03-17      USD  36.4216"
      ]
     },
     "execution_count": 120,
     "metadata": {},
     "output_type": "execute_result"
    }
   ],
   "source": [
    "df.head()"
   ]
  },
  {
   "cell_type": "code",
   "execution_count": 133,
   "id": "09f36d88",
   "metadata": {},
   "outputs": [
    {
     "data": {
      "text/plain": [
       "datetime.date(2018, 3, 13)"
      ]
     },
     "execution_count": 133,
     "metadata": {},
     "output_type": "execute_result"
    }
   ],
   "source": [
    "start_dt = date(2018, 3, 13)\n",
    "start_dt"
   ]
  },
  {
   "cell_type": "code",
   "execution_count": 134,
   "id": "b3f33c6a",
   "metadata": {},
   "outputs": [
    {
     "data": {
      "text/plain": [
       "'13.03.2018'"
      ]
     },
     "execution_count": 134,
     "metadata": {},
     "output_type": "execute_result"
    }
   ],
   "source": [
    "f_date = start_dt.strftime('%d.%m.%Y')\n",
    "f_date"
   ]
  },
  {
   "cell_type": "code",
   "execution_count": 191,
   "id": "9495ab46",
   "metadata": {},
   "outputs": [
    {
     "name": "stdout",
     "output_type": "stream",
     "text": [
      "https://bank.gov.ua/NBU_Exchange/exchange?date=13.03.2018\n",
      "https://bank.gov.ua/NBU_Exchange/exchange?date=14.03.2018\n",
      "https://bank.gov.ua/NBU_Exchange/exchange?date=15.03.2018\n",
      "['2591.5887', '2591.5887', '2591.5887', '2591.5887', '2591.5887', '2591.5887', '2591.5887', '2591.5887', '2591.5887']\n",
      "['13.03.2018', '14.03.2018', '15.03.2018']\n"
     ]
    }
   ],
   "source": [
    "from bs4 import BeautifulSoup\n",
    "import requests\n",
    "\n",
    "from datetime import date, timedelta\n",
    "start_dt = date(2018, 3, 13) #13.03.2018\n",
    "end_dt = date(2018, 3, 15)  # 15.03.2018\n",
    "delta = timedelta(days=1)\n",
    "\n",
    "date_list = []\n",
    "\n",
    "while start_dt <= end_dt:\n",
    "    date_list.append(start_dt.strftime('%d.%m.%Y'))\n",
    "    start_dt += delta\n",
    "\n",
    "base_url = 'https://bank.gov.ua/NBU_Exchange/exchange?date={}'\n",
    "\n",
    "amount_list_new=[]\n",
    "\n",
    "for date in date_list_new:\n",
    "    url = base_url.format(date)\n",
    "    print(url)\n",
    "    response = requests.get(url)\n",
    "    html_doc = r.text\n",
    "    soup = BeautifulSoup(html_doc, 'html.parser')\n",
    "\n",
    "    # Find all <ROW> elements\n",
    "    row_elements = soup.find_all('row')\n",
    "\n",
    "    for row in row_elements:\n",
    "        currency_code_element = row.find('currencycodel')\n",
    "        amount_element = row.find('amount')\n",
    "\n",
    "        if currency_code_element and amount_element:\n",
    "            currency_code = currency_code_element.text\n",
    "            amount = amount_element.text\n",
    "\n",
    "            if currency_code == 'USD':\n",
    "                amount_list.append(amount)\n",
    "\n",
    "print(amount_list)\n",
    "print(date_list)"
   ]
  },
  {
   "cell_type": "code",
   "execution_count": 196,
   "id": "1079fc6b",
   "metadata": {},
   "outputs": [],
   "source": [
    "from bs4 import BeautifulSoup\n",
    "import requests\n",
    "from datetime import date, timedelta\n",
    "\n",
    "start_dt = date(2018, 3, 13) #13.03.2018\n",
    "end_dt = date(2019, 3, 6)  # 06.03.2019\n",
    "delta = timedelta(days=1)\n",
    "\n",
    "date_list = []\n",
    "\n",
    "while start_dt <= end_dt:\n",
    "    date_list.append(start_dt.strftime('%d.%m.%Y'))\n",
    "    start_dt += delta\n",
    "\n",
    "base_url = 'https://bank.gov.ua/NBU_Exchange/exchange?date={}'\n",
    "\n",
    "amount_list = []  # Fix the variable name here\n",
    "units_list = []\n",
    "\n",
    "for date_str in date_list:  # Use a different variable name to avoid overwriting date\n",
    "    url = base_url.format(date_str)\n",
    "    response = requests.get(url)\n",
    "    html_doc = response.text  # Fix the variable name here\n",
    "    soup = BeautifulSoup(html_doc, 'html.parser')\n",
    "\n",
    "    # Find all <ROW> elements\n",
    "    row_elements = soup.find_all('row')\n",
    "\n",
    "    for row in row_elements:\n",
    "        currency_code_element = row.find('currencycodel')  # Fix the element name here\n",
    "        amount_element = row.find('amount')\n",
    "        units_element = row.find('units')\n",
    "\n",
    "        if currency_code_element and amount_element and units_element:\n",
    "            currency_code = currency_code_element.text\n",
    "            amount = amount_element.text\n",
    "            units = units_element.text\n",
    "\n",
    "            if currency_code == 'USD':\n",
    "                amount_list.append(amount)\n",
    "                units_list.append(units)\n",
    "\n"
   ]
  },
  {
   "cell_type": "code",
   "execution_count": 208,
   "id": "91af17c9",
   "metadata": {},
   "outputs": [
    {
     "data": {
      "text/html": [
       "<div>\n",
       "<style scoped>\n",
       "    .dataframe tbody tr th:only-of-type {\n",
       "        vertical-align: middle;\n",
       "    }\n",
       "\n",
       "    .dataframe tbody tr th {\n",
       "        vertical-align: top;\n",
       "    }\n",
       "\n",
       "    .dataframe thead th {\n",
       "        text-align: right;\n",
       "    }\n",
       "</style>\n",
       "<table border=\"1\" class=\"dataframe\">\n",
       "  <thead>\n",
       "    <tr style=\"text-align: right;\">\n",
       "      <th></th>\n",
       "      <th>Date</th>\n",
       "      <th>Currency</th>\n",
       "      <th>Units</th>\n",
       "      <th>Amount</th>\n",
       "    </tr>\n",
       "  </thead>\n",
       "  <tbody>\n",
       "    <tr>\n",
       "      <th>0</th>\n",
       "      <td>13.03.2018</td>\n",
       "      <td>USD</td>\n",
       "      <td>100</td>\n",
       "      <td>2592.4612</td>\n",
       "    </tr>\n",
       "    <tr>\n",
       "      <th>1</th>\n",
       "      <td>14.03.2018</td>\n",
       "      <td>USD</td>\n",
       "      <td>100</td>\n",
       "      <td>2591.5887</td>\n",
       "    </tr>\n",
       "    <tr>\n",
       "      <th>2</th>\n",
       "      <td>15.03.2018</td>\n",
       "      <td>USD</td>\n",
       "      <td>100</td>\n",
       "      <td>2601.3978</td>\n",
       "    </tr>\n",
       "    <tr>\n",
       "      <th>3</th>\n",
       "      <td>16.03.2018</td>\n",
       "      <td>USD</td>\n",
       "      <td>100</td>\n",
       "      <td>2627.2654</td>\n",
       "    </tr>\n",
       "    <tr>\n",
       "      <th>4</th>\n",
       "      <td>17.03.2018</td>\n",
       "      <td>USD</td>\n",
       "      <td>100</td>\n",
       "      <td>2627.2654</td>\n",
       "    </tr>\n",
       "  </tbody>\n",
       "</table>\n",
       "</div>"
      ],
      "text/plain": [
       "         Date Currency Units     Amount\n",
       "0  13.03.2018      USD   100  2592.4612\n",
       "1  14.03.2018      USD   100  2591.5887\n",
       "2  15.03.2018      USD   100  2601.3978\n",
       "3  16.03.2018      USD   100  2627.2654\n",
       "4  17.03.2018      USD   100  2627.2654"
      ]
     },
     "execution_count": 208,
     "metadata": {},
     "output_type": "execute_result"
    }
   ],
   "source": [
    "import pandas as pd\n",
    "\n",
    "df = pd.DataFrame({'Date':date_list, 'Currency': ['USD']*len(date_list), 'Units':units_list, 'Amount':amount_list})\n",
    "df.head()"
   ]
  },
  {
   "cell_type": "code",
   "execution_count": 206,
   "id": "f0d4a776",
   "metadata": {},
   "outputs": [
    {
     "name": "stdout",
     "output_type": "stream",
     "text": [
      "<class 'pandas.core.frame.DataFrame'>\n",
      "RangeIndex: 359 entries, 0 to 358\n",
      "Data columns (total 4 columns):\n",
      " #   Column    Non-Null Count  Dtype \n",
      "---  ------    --------------  ----- \n",
      " 0   Date      359 non-null    object\n",
      " 1   Currency  359 non-null    object\n",
      " 2   Units     359 non-null    object\n",
      " 3   Amount    359 non-null    object\n",
      "dtypes: object(4)\n",
      "memory usage: 11.3+ KB\n"
     ]
    }
   ],
   "source": [
    "df.info()"
   ]
  },
  {
   "cell_type": "code",
   "execution_count": 211,
   "id": "a8ffc09c",
   "metadata": {},
   "outputs": [
    {
     "data": {
      "text/html": [
       "<div>\n",
       "<style scoped>\n",
       "    .dataframe tbody tr th:only-of-type {\n",
       "        vertical-align: middle;\n",
       "    }\n",
       "\n",
       "    .dataframe tbody tr th {\n",
       "        vertical-align: top;\n",
       "    }\n",
       "\n",
       "    .dataframe thead th {\n",
       "        text-align: right;\n",
       "    }\n",
       "</style>\n",
       "<table border=\"1\" class=\"dataframe\">\n",
       "  <thead>\n",
       "    <tr style=\"text-align: right;\">\n",
       "      <th></th>\n",
       "      <th>Date</th>\n",
       "      <th>Currency</th>\n",
       "      <th>Units</th>\n",
       "      <th>Amount</th>\n",
       "      <th>Currency_amount</th>\n",
       "    </tr>\n",
       "  </thead>\n",
       "  <tbody>\n",
       "    <tr>\n",
       "      <th>354</th>\n",
       "      <td>02.03.2019</td>\n",
       "      <td>USD</td>\n",
       "      <td>100</td>\n",
       "      <td>2685.9165</td>\n",
       "      <td>26.859165</td>\n",
       "    </tr>\n",
       "    <tr>\n",
       "      <th>355</th>\n",
       "      <td>03.03.2019</td>\n",
       "      <td>USD</td>\n",
       "      <td>100</td>\n",
       "      <td>2685.9165</td>\n",
       "      <td>26.859165</td>\n",
       "    </tr>\n",
       "    <tr>\n",
       "      <th>356</th>\n",
       "      <td>04.03.2019</td>\n",
       "      <td>USD</td>\n",
       "      <td>100</td>\n",
       "      <td>2686.2244</td>\n",
       "      <td>26.862244</td>\n",
       "    </tr>\n",
       "    <tr>\n",
       "      <th>357</th>\n",
       "      <td>05.03.2019</td>\n",
       "      <td>USD</td>\n",
       "      <td>100</td>\n",
       "      <td>2682.7083</td>\n",
       "      <td>26.827083</td>\n",
       "    </tr>\n",
       "    <tr>\n",
       "      <th>358</th>\n",
       "      <td>06.03.2019</td>\n",
       "      <td>USD</td>\n",
       "      <td>100</td>\n",
       "      <td>2676.2376</td>\n",
       "      <td>26.762376</td>\n",
       "    </tr>\n",
       "  </tbody>\n",
       "</table>\n",
       "</div>"
      ],
      "text/plain": [
       "           Date Currency  Units     Amount  Currency_amount\n",
       "354  02.03.2019      USD    100  2685.9165        26.859165\n",
       "355  03.03.2019      USD    100  2685.9165        26.859165\n",
       "356  04.03.2019      USD    100  2686.2244        26.862244\n",
       "357  05.03.2019      USD    100  2682.7083        26.827083\n",
       "358  06.03.2019      USD    100  2676.2376        26.762376"
      ]
     },
     "execution_count": 211,
     "metadata": {},
     "output_type": "execute_result"
    }
   ],
   "source": [
    "df['Units'] = df['Units'].astype(int)\n",
    "df['Amount'] = df['Amount'].astype(float)\n",
    "df['Currency_amount'] = df['Amount'] / df['Units']\n",
    "df.tail()"
   ]
  },
  {
   "cell_type": "code",
   "execution_count": 212,
   "id": "60534b2a",
   "metadata": {},
   "outputs": [],
   "source": [
    "file_name = 'currency_exchange.csv'\n",
    "\n",
    "df.to_csv(file_name, sep=',', encoding='utf-8')\n",
    "    "
   ]
  },
  {
   "cell_type": "code",
   "execution_count": null,
   "id": "57ecd329",
   "metadata": {},
   "outputs": [],
   "source": []
  }
 ],
 "metadata": {
  "kernelspec": {
   "display_name": "Python 3 (ipykernel)",
   "language": "python",
   "name": "python3"
  },
  "language_info": {
   "codemirror_mode": {
    "name": "ipython",
    "version": 3
   },
   "file_extension": ".py",
   "mimetype": "text/x-python",
   "name": "python",
   "nbconvert_exporter": "python",
   "pygments_lexer": "ipython3",
   "version": "3.10.9"
  }
 },
 "nbformat": 4,
 "nbformat_minor": 5
}
