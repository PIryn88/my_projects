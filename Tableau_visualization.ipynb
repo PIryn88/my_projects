{
 "cells": [
  {
   "cell_type": "markdown",
   "id": "ab331ea4",
   "metadata": {},
   "source": [
    "### <a href = \"https://public.tableau.com/views/Revenuedistribution_16909816265590/RevenueDistribution?:language=en-US&:display_count=n&:origin=viz_share_link\">Visualisation #1: Revenue Distribution</a>"
   ]
  },
  {
   "cell_type": "markdown",
   "id": "78a9e205",
   "metadata": {},
   "source": [
    "<div class='tableauPlaceholder' id='viz1692963836774' style='position: relative'><noscript><a href='#'><img alt='Revenue Distribution ' src='https:&#47;&#47;public.tableau.com&#47;static&#47;images&#47;Re&#47;Revenuedistribution_16909816265590&#47;RevenueDistribution&#47;1_rss.png' style='border: none' /></a></noscript><object class='tableauViz'  style='display:none;'><param name='host_url' value='https%3A%2F%2Fpublic.tableau.com%2F' /> <param name='embed_code_version' value='3' /> <param name='site_root' value='' /><param name='name' value='Revenuedistribution_16909816265590&#47;RevenueDistribution' /><param name='tabs' value='no' /><param name='toolbar' value='yes' /><param name='static_image' value='https:&#47;&#47;public.tableau.com&#47;static&#47;images&#47;Re&#47;Revenuedistribution_16909816265590&#47;RevenueDistribution&#47;1.png' /> <param name='animate_transition' value='yes' /><param name='display_static_image' value='yes' /><param name='display_spinner' value='yes' /><param name='display_overlay' value='yes' /><param name='display_count' value='yes' /><param name='language' value='en-US' /></object></div>                <script type='text/javascript'>                    var divElement = document.getElementById('viz1692963836774');                    var vizElement = divElement.getElementsByTagName('object')[0];                    if ( divElement.offsetWidth > 800 ) { vizElement.style.width='1000px';vizElement.style.height='827px';} else if ( divElement.offsetWidth > 500 ) { vizElement.style.width='1000px';vizElement.style.height='827px';} else { vizElement.style.width='100%';vizElement.style.height='1277px';}                     var scriptElement = document.createElement('script');                    scriptElement.src = 'https://public.tableau.com/javascripts/api/viz_v1.js';                    vizElement.parentNode.insertBefore(scriptElement, vizElement);                </script>"
   ]
  },
  {
   "cell_type": "markdown",
   "id": "15005065",
   "metadata": {},
   "source": [
    "  \n",
    "  "
   ]
  },
  {
   "cell_type": "markdown",
   "id": "4ccd7a85",
   "metadata": {},
   "source": [
    "### <a href = \"https://public.tableau.com/views/FunnelAnalysis_16910158610100/Funnelanalysis?:language=en-US&:display_count=n&:origin=viz_share_link\">Visualisation #2: Funnel Analysis</a>"
   ]
  },
  {
   "cell_type": "markdown",
   "id": "b189b45d",
   "metadata": {},
   "source": [
    "<div class='tableauPlaceholder' id='viz1692964458131' style='position: relative'><noscript><a href='#'><img alt='Funnel analysis ' src='https:&#47;&#47;public.tableau.com&#47;static&#47;images&#47;Fu&#47;FunnelAnalysis_16910158610100&#47;Funnelanalysis&#47;1_rss.png' style='border: none' /></a></noscript><object class='tableauViz'  style='display:none;'><param name='host_url' value='https%3A%2F%2Fpublic.tableau.com%2F' /> <param name='embed_code_version' value='3' /> <param name='site_root' value='' /><param name='name' value='FunnelAnalysis_16910158610100&#47;Funnelanalysis' /><param name='tabs' value='no' /><param name='toolbar' value='yes' /><param name='static_image' value='https:&#47;&#47;public.tableau.com&#47;static&#47;images&#47;Fu&#47;FunnelAnalysis_16910158610100&#47;Funnelanalysis&#47;1.png' /> <param name='animate_transition' value='yes' /><param name='display_static_image' value='yes' /><param name='display_spinner' value='yes' /><param name='display_overlay' value='yes' /><param name='display_count' value='yes' /><param name='language' value='en-US' /></object></div>                <script type='text/javascript'>                    var divElement = document.getElementById('viz1692964458131');                    var vizElement = divElement.getElementsByTagName('object')[0];                    if ( divElement.offsetWidth > 800 ) { vizElement.style.width='1000px';vizElement.style.height='827px';} else if ( divElement.offsetWidth > 500 ) { vizElement.style.width='1000px';vizElement.style.height='827px';} else { vizElement.style.width='100%';vizElement.style.height='1377px';}                     var scriptElement = document.createElement('script');                    scriptElement.src = 'https://public.tableau.com/javascripts/api/viz_v1.js';                    vizElement.parentNode.insertBefore(scriptElement, vizElement);                </script>"
   ]
  },
  {
   "cell_type": "markdown",
   "id": "895c4124",
   "metadata": {},
   "source": [
    "  "
   ]
  }
 ],
 "metadata": {
  "kernelspec": {
   "display_name": "Python 3 (ipykernel)",
   "language": "python",
   "name": "python3"
  },
  "language_info": {
   "codemirror_mode": {
    "name": "ipython",
    "version": 3
   },
   "file_extension": ".py",
   "mimetype": "text/x-python",
   "name": "python",
   "nbconvert_exporter": "python",
   "pygments_lexer": "ipython3",
   "version": "3.10.9"
  }
 },
 "nbformat": 4,
 "nbformat_minor": 5
}
