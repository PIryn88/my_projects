{
 "cells": [
  {
   "cell_type": "markdown",
   "id": "b83b4379",
   "metadata": {},
   "source": [
    "### <a href = \"https://public.tableau.com/views/Revenuedistribution_16909816265590/RevenueDistribution?:language=en-US&:display_count=n&:origin=viz_share_link\">Visualization  #1: Revenue Distribution</a>"
   ]
  },
  {
   "cell_type": "markdown",
   "id": "2aba8d5f",
   "metadata": {},
   "source": [
    "<img src='Visualization_1.png' alt='Revenue Distribution'>"
   ]
  },
  {
   "cell_type": "markdown",
   "id": "cf2d9fd5",
   "metadata": {},
   "source": [
    "  \n",
    "  "
   ]
  },
  {
   "cell_type": "markdown",
   "id": "8f86a394",
   "metadata": {},
   "source": [
    "### <a href = \"https://public.tableau.com/views/FunnelAnalysis_16910158610100/Funnelanalysis?:language=en-US&:display_count=n&:origin=viz_share_link\">Visualization #2: Funnel Analysis</a>"
   ]
  },
  {
   "cell_type": "markdown",
   "id": "cc6a4ff1",
   "metadata": {},
   "source": [
    "<img src=\"Visualization_2.png\" alt=\"Funnel Analysis\">  "
   ]
  },
  {
   "cell_type": "markdown",
   "id": "5d561cb3",
   "metadata": {},
   "source": [
    "  "
   ]
  }
 ],
 "metadata": {
  "kernelspec": {
   "display_name": "Python 3 (ipykernel)",
   "language": "python",
   "name": "python3"
  },
  "language_info": {
   "codemirror_mode": {
    "name": "ipython",
    "version": 3
   },
   "file_extension": ".py",
   "mimetype": "text/x-python",
   "name": "python",
   "nbconvert_exporter": "python",
   "pygments_lexer": "ipython3",
   "version": "3.10.9"
  }
 },
 "nbformat": 4,
 "nbformat_minor": 5
}
